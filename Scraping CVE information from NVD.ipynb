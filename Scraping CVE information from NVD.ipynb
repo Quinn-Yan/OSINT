{
 "cells": [
  {
   "cell_type": "markdown",
   "metadata": {},
   "source": [
    "# Pulling CVE information from NVD per month"
   ]
  },
  {
   "cell_type": "code",
   "execution_count": 1,
   "metadata": {},
   "outputs": [],
   "source": [
    "import requests\n",
    "import re\n",
    "from bs4 import BeautifulSoup\n",
    "page = \"https://nvd.nist.gov/vuln/full-listing/2019/11\"\n",
    "result = requests.get(page)\n",
    "resulttext = result.text\n",
    "soup = BeautifulSoup(result.text,'html.parser')"
   ]
  },
  {
   "cell_type": "markdown",
   "metadata": {},
   "source": [
    "### Requesting to nvd URL parsing the results in beautifull SOUP"
   ]
  },
  {
   "cell_type": "code",
   "execution_count": 2,
   "metadata": {},
   "outputs": [],
   "source": [
    "scraplist = list(soup.find_all('span',class_='col-md-2',attrs='href'))"
   ]
  },
  {
   "cell_type": "markdown",
   "metadata": {},
   "source": [
    "### Converting the CVE position into list if you use .text method that will be string"
   ]
  },
  {
   "cell_type": "code",
   "execution_count": 3,
   "metadata": {},
   "outputs": [],
   "source": [
    "import csv"
   ]
  },
  {
   "cell_type": "code",
   "execution_count": 4,
   "metadata": {},
   "outputs": [],
   "source": [
    "writefile = open('nvd.csv','w',newline='')\n",
    "writer = csv.writer(writefile)\n",
    "writer.writerow(['cve name'])\n",
    "for i in range(len(scraplist)):\n",
    "    writer.writerow([scraplist[i].text])\n",
    "writefile.close()"
   ]
  },
  {
   "cell_type": "markdown",
   "metadata": {},
   "source": [
    "### Now you can use the CSV writer to input them in a csv file"
   ]
  },
  {
   "cell_type": "code",
   "execution_count": null,
   "metadata": {},
   "outputs": [],
   "source": [
    "# general URL format of NVD\n",
    "# https://nvd.nist.gov/vuln/detail/CVE-2019-13307\n",
    "nvdurl = \"https://nvd.nist.gov/vuln/detail/\"\n",
    "nvdurllist = []\n",
    "for i in range(len(scraplist)):\n",
    "    fullnvdurl = nvdurl+scraplist[i].text\n",
    "    #There is one extra space 'https://nvd.nist.gov/vuln/detail/ CVE-2005-2350'\n",
    "    fullnvdurl = fullnvdurl.replace('/ CVE','/CVE')\n",
    "    nvdurllist.append(fullnvdurl)\n"
   ]
  },
  {
   "cell_type": "markdown",
   "metadata": {},
   "source": [
    "## Now you have constructed a list of all NVD urls"
   ]
  },
  {
   "cell_type": "code",
   "execution_count": null,
   "metadata": {},
   "outputs": [
    {
     "name": "stdout",
     "output_type": "stream",
     "text": [
      "Mon Nov 18 19:35:55 2019\n",
      "Mon Nov 18 19:36:05 2019\n",
      "Mon Nov 18 19:36:15 2019\n",
      "Mon Nov 18 19:36:25 2019\n",
      "Mon Nov 18 19:36:35 2019\n",
      "Mon Nov 18 19:36:45 2019\n",
      "Mon Nov 18 19:36:55 2019\n"
     ]
    }
   ],
   "source": [
    "import time\n",
    "def foo():\n",
    "  print(time.ctime())\n",
    "for i in range(len(nvdurllist)):\n",
    "    foo()\n",
    "    # HERE you have to code the cve information fill part\n",
    "    time.sleep(10)\n",
    "    # to delay the request\n"
   ]
  },
  {
   "cell_type": "code",
   "execution_count": null,
   "metadata": {},
   "outputs": [],
   "source": []
  }
 ],
 "metadata": {
  "kernelspec": {
   "display_name": "Python 3",
   "language": "python",
   "name": "python3"
  },
  "language_info": {
   "codemirror_mode": {
    "name": "ipython",
    "version": 3
   },
   "file_extension": ".py",
   "mimetype": "text/x-python",
   "name": "python",
   "nbconvert_exporter": "python",
   "pygments_lexer": "ipython3",
   "version": "3.7.0"
  }
 },
 "nbformat": 4,
 "nbformat_minor": 2
}
